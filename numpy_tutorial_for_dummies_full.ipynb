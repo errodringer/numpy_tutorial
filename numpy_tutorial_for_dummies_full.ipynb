{
 "cells": [
  {
   "cell_type": "markdown",
   "id": "641bdd99",
   "metadata": {},
   "source": [
    "# Numpy"
   ]
  },
  {
   "cell_type": "markdown",
   "id": "b82616fb",
   "metadata": {},
   "source": [
    "<div>\n",
    "<img src=\"images/numpy_logo.png\" width=\"250\"/>\n",
    "</div>"
   ]
  },
  {
   "cell_type": "markdown",
   "id": "7d68ac84",
   "metadata": {},
   "source": [
    "## ¿Qué es NumPy?"
   ]
  },
  {
   "cell_type": "markdown",
   "id": "4e048d66",
   "metadata": {},
   "source": [
    "- Definición y propósito: NumPy es la librería fundamental para el cálculo numérico en Python. Permite trabajar con arrays multidimensionales de manera eficiente y ofrece una gran variedad de funciones matemáticas, estadísticas y de álgebra lineal.\n",
    "\n",
    "\n",
    "- Por qué es importante: Python, por defecto, no está diseñado para manejar grandes volúmenes de datos numéricos de manera rápida y eficiente, pero NumPy resuelve este problema. Comparado con listas de Python, los arrays de NumPy son más rápidos y ocupan menos espacio en memoria.\n",
    "\n",
    "Viendo un ejemplo:\n"
   ]
  },
  {
   "cell_type": "code",
   "execution_count": 54,
   "id": "5fb0c9e1",
   "metadata": {},
   "outputs": [
    {
     "name": "stdout",
     "output_type": "stream",
     "text": [
      "[5, 7, 9]\n",
      "[5 7 9]\n"
     ]
    }
   ],
   "source": [
    "# Importamos numpy como \"np\" por convención\n",
    "import numpy as np\n",
    "\n",
    "# Sin NumPy\n",
    "list_a = [1, 2, 3]\n",
    "list_b = [4, 5, 6]\n",
    "result = [list_a[i] + list_b[i] for i in range(len(list_a))]\n",
    "print(result)\n",
    "\n",
    "# Con NumPy\n",
    "array_a = np.array([1, 2, 3])\n",
    "array_b = np.array([4, 5, 6])\n",
    "result = array_a + array_b  # Mucho más simple y eficiente\n",
    "print(result)"
   ]
  },
  {
   "cell_type": "markdown",
   "id": "3aacf884",
   "metadata": {},
   "source": [
    "## Instalación"
   ]
  },
  {
   "cell_type": "code",
   "execution_count": 28,
   "id": "e2e5b101",
   "metadata": {},
   "outputs": [],
   "source": [
    "# Para python instalado\n",
    "# !pip install numpy"
   ]
  },
  {
   "cell_type": "code",
   "execution_count": 29,
   "id": "2417d362",
   "metadata": {},
   "outputs": [],
   "source": [
    "# Para anaconda instalado\n",
    "# !conda install numpy"
   ]
  },
  {
   "cell_type": "markdown",
   "id": "2c55fa18",
   "metadata": {},
   "source": [
    "Versión instalada"
   ]
  },
  {
   "cell_type": "code",
   "execution_count": 10,
   "id": "72294bde",
   "metadata": {},
   "outputs": [
    {
     "name": "stdout",
     "output_type": "stream",
     "text": [
      "1.21.3\n"
     ]
    }
   ],
   "source": [
    "import numpy as np\n",
    "print(np.__version__)"
   ]
  },
  {
   "cell_type": "markdown",
   "id": "6a6a82b9",
   "metadata": {},
   "source": [
    "## Creación de Arrays"
   ]
  },
  {
   "cell_type": "markdown",
   "id": "e8cd9de6",
   "metadata": {},
   "source": [
    "### Array 1D\n",
    "\n",
    "Es un array de una dimensión similar a una lista de Python, pero es mucho más eficiente para grandes cantidades de datos numéricos."
   ]
  },
  {
   "cell_type": "code",
   "execution_count": 13,
   "id": "981043d7",
   "metadata": {},
   "outputs": [
    {
     "data": {
      "text/plain": [
       "array([1, 2, 3])"
      ]
     },
     "execution_count": 13,
     "metadata": {},
     "output_type": "execute_result"
    }
   ],
   "source": [
    "a = np.array([1, 2, 3])\n",
    "a"
   ]
  },
  {
   "cell_type": "markdown",
   "id": "5b175741",
   "metadata": {},
   "source": [
    "### Array 2D y más...\n",
    "\n",
    "Es un array de una dimensión similar a una lista de Python, pero es mucho más eficiente para grandes cantidades de datos numéricos."
   ]
  },
  {
   "cell_type": "code",
   "execution_count": 14,
   "id": "cd52097e",
   "metadata": {},
   "outputs": [
    {
     "data": {
      "text/plain": [
       "array([[1, 2],\n",
       "       [3, 4]])"
      ]
     },
     "execution_count": 14,
     "metadata": {},
     "output_type": "execute_result"
    }
   ],
   "source": [
    "b = np.array([[1, 2], [3, 4]])\n",
    "b"
   ]
  },
  {
   "cell_type": "code",
   "execution_count": 15,
   "id": "ebd5094b",
   "metadata": {},
   "outputs": [
    {
     "data": {
      "text/plain": [
       "array([[[1, 2],\n",
       "        [3, 4]],\n",
       "\n",
       "       [[5, 6],\n",
       "        [7, 8]]])"
      ]
     },
     "execution_count": 15,
     "metadata": {},
     "output_type": "execute_result"
    }
   ],
   "source": [
    "c = np.array([[[1, 2], [3, 4]], [[5, 6], [7, 8]]])\n",
    "c"
   ]
  },
  {
   "cell_type": "markdown",
   "id": "151db7f7",
   "metadata": {},
   "source": [
    "### Funciones útiles para crear arrays"
   ]
  },
  {
   "cell_type": "markdown",
   "id": "61dd1f48",
   "metadata": {},
   "source": [
    "Introduce funciones clave para crear arrays rápidamente:\n",
    "- np.zeros(): Crea un array de ceros.\n",
    "- np.ones(): Crea un array de unos.\n",
    "- np.arange(): Crea un array con un rango de valores, similar a range() en Python.\n",
    "- np.linspace(): Crea un array con números equidistantes entre un intervalo"
   ]
  },
  {
   "cell_type": "code",
   "execution_count": 16,
   "id": "4203ab38",
   "metadata": {},
   "outputs": [
    {
     "data": {
      "text/plain": [
       "array([[0., 0., 0.],\n",
       "       [0., 0., 0.],\n",
       "       [0., 0., 0.]])"
      ]
     },
     "execution_count": 16,
     "metadata": {},
     "output_type": "execute_result"
    }
   ],
   "source": [
    "zeros = np.zeros((3, 3))\n",
    "zeros"
   ]
  },
  {
   "cell_type": "code",
   "execution_count": 17,
   "id": "e854c7ac",
   "metadata": {},
   "outputs": [
    {
     "data": {
      "text/plain": [
       "array([[1., 1.],\n",
       "       [1., 1.]])"
      ]
     },
     "execution_count": 17,
     "metadata": {},
     "output_type": "execute_result"
    }
   ],
   "source": [
    "ones = np.ones((2, 2))\n",
    "ones"
   ]
  },
  {
   "cell_type": "code",
   "execution_count": 18,
   "id": "29ec18b9",
   "metadata": {},
   "outputs": [
    {
     "data": {
      "text/plain": [
       "array([0, 2, 4, 6, 8])"
      ]
     },
     "execution_count": 18,
     "metadata": {},
     "output_type": "execute_result"
    }
   ],
   "source": [
    "range_arr = np.arange(0, 10, 2)\n",
    "range_arr"
   ]
  },
  {
   "cell_type": "code",
   "execution_count": 19,
   "id": "fc4e8c8b",
   "metadata": {},
   "outputs": [
    {
     "data": {
      "text/plain": [
       "array([0.  , 0.25, 0.5 , 0.75, 1.  ])"
      ]
     },
     "execution_count": 19,
     "metadata": {},
     "output_type": "execute_result"
    }
   ],
   "source": [
    "linspace_arr = np.linspace(0, 1, 5)\n",
    "linspace_arr"
   ]
  },
  {
   "cell_type": "markdown",
   "id": "9a39a10e",
   "metadata": {},
   "source": [
    "Bonus:\n",
    "- np.eye(): Para matrices identidad.\n",
    "- np.random.rand(): Para arrays de números aleatorios."
   ]
  },
  {
   "cell_type": "code",
   "execution_count": 20,
   "id": "3b99257a",
   "metadata": {},
   "outputs": [
    {
     "data": {
      "text/plain": [
       "array([[1., 0., 0.],\n",
       "       [0., 1., 0.],\n",
       "       [0., 0., 1.]])"
      ]
     },
     "execution_count": 20,
     "metadata": {},
     "output_type": "execute_result"
    }
   ],
   "source": [
    "identidad = np.eye(3)\n",
    "identidad"
   ]
  },
  {
   "cell_type": "code",
   "execution_count": 21,
   "id": "7654b698",
   "metadata": {},
   "outputs": [
    {
     "data": {
      "text/plain": [
       "array([[0.72786478, 0.97927433, 0.37803574],\n",
       "       [0.5481126 , 0.96402757, 0.96844708],\n",
       "       [0.92514652, 0.5113198 , 0.57597738]])"
      ]
     },
     "execution_count": 21,
     "metadata": {},
     "output_type": "execute_result"
    }
   ],
   "source": [
    "random_array = np.random.rand(3, 3)\n",
    "random_array"
   ]
  },
  {
   "cell_type": "markdown",
   "id": "e3377a44",
   "metadata": {},
   "source": [
    "## Operaciones básicas con Arrays"
   ]
  },
  {
   "cell_type": "markdown",
   "id": "07727e47",
   "metadata": {},
   "source": [
    "### Operaciones matemáticas elementales"
   ]
  },
  {
   "cell_type": "markdown",
   "id": "9e40c399",
   "metadata": {},
   "source": [
    "NumPy permite realizar operaciones matemáticas de manera eficiente entre arrays y escalares, lo cual es más rápido que usar bucles en Python."
   ]
  },
  {
   "cell_type": "code",
   "execution_count": 22,
   "id": "f3d7a3e0",
   "metadata": {},
   "outputs": [],
   "source": [
    "a = np.array([1, 2, 3])\n",
    "b = np.array([4, 5, 6])"
   ]
  },
  {
   "cell_type": "code",
   "execution_count": 23,
   "id": "256cfe0a",
   "metadata": {},
   "outputs": [
    {
     "data": {
      "text/plain": [
       "array([5, 7, 9])"
      ]
     },
     "execution_count": 23,
     "metadata": {},
     "output_type": "execute_result"
    }
   ],
   "source": [
    "suma = a + b\n",
    "suma"
   ]
  },
  {
   "cell_type": "code",
   "execution_count": 24,
   "id": "443a610c",
   "metadata": {},
   "outputs": [
    {
     "data": {
      "text/plain": [
       "array([-3, -3, -3])"
      ]
     },
     "execution_count": 24,
     "metadata": {},
     "output_type": "execute_result"
    }
   ],
   "source": [
    "resta = a - b\n",
    "resta"
   ]
  },
  {
   "cell_type": "code",
   "execution_count": 25,
   "id": "6724fb89",
   "metadata": {},
   "outputs": [
    {
     "data": {
      "text/plain": [
       "array([ 4, 10, 18])"
      ]
     },
     "execution_count": 25,
     "metadata": {},
     "output_type": "execute_result"
    }
   ],
   "source": [
    "producto = a * b\n",
    "producto"
   ]
  },
  {
   "cell_type": "code",
   "execution_count": 26,
   "id": "17132d6d",
   "metadata": {},
   "outputs": [
    {
     "data": {
      "text/plain": [
       "array([0.25, 0.4 , 0.5 ])"
      ]
     },
     "execution_count": 26,
     "metadata": {},
     "output_type": "execute_result"
    }
   ],
   "source": [
    "division = a / b\n",
    "division"
   ]
  },
  {
   "cell_type": "markdown",
   "id": "ec77777e",
   "metadata": {},
   "source": [
    "También puedes sumar, restar, multiplicar o dividir arrays por un escalar"
   ]
  },
  {
   "cell_type": "code",
   "execution_count": 27,
   "id": "b7e4943b",
   "metadata": {},
   "outputs": [
    {
     "data": {
      "text/plain": [
       "array([2, 4, 6])"
      ]
     },
     "execution_count": 27,
     "metadata": {},
     "output_type": "execute_result"
    }
   ],
   "source": [
    "a = np.array([1, 2, 3])\n",
    "b = a * 2\n",
    "b"
   ]
  },
  {
   "cell_type": "markdown",
   "id": "c244bb56",
   "metadata": {},
   "source": [
    "### Indexación y slicing"
   ]
  },
  {
   "cell_type": "markdown",
   "id": "1617b4bc",
   "metadata": {},
   "source": [
    "Acceder a elementos"
   ]
  },
  {
   "cell_type": "code",
   "execution_count": 30,
   "id": "8515bca4",
   "metadata": {},
   "outputs": [
    {
     "name": "stdout",
     "output_type": "stream",
     "text": [
      "1\n",
      "4\n"
     ]
    }
   ],
   "source": [
    "a = np.array([1, 2, 3, 4])\n",
    "print(a[0])   # Primer elemento\n",
    "print(a[-1])  # Último elemento"
   ]
  },
  {
   "cell_type": "markdown",
   "id": "88f8f709",
   "metadata": {},
   "source": [
    "Slicing en arrays 1D y 2D"
   ]
  },
  {
   "cell_type": "code",
   "execution_count": 31,
   "id": "86849392",
   "metadata": {},
   "outputs": [
    {
     "name": "stdout",
     "output_type": "stream",
     "text": [
      "[2 3 4]\n"
     ]
    }
   ],
   "source": [
    "a = np.array([1, 2, 3, 4, 5])\n",
    "print(a[1:4])  # Elementos desde el índice 1 hasta el 3"
   ]
  },
  {
   "cell_type": "code",
   "execution_count": 32,
   "id": "314f66e5",
   "metadata": {},
   "outputs": [
    {
     "name": "stdout",
     "output_type": "stream",
     "text": [
      "2\n",
      "[2 5 8]\n",
      "[[5 6]\n",
      " [8 9]]\n"
     ]
    }
   ],
   "source": [
    "b = np.array([[1, 2, 3], [4, 5, 6], [7, 8, 9]])\n",
    "print(b[0, 1])  # Elemento en la primera fila, segunda columna\n",
    "print(b[:, 1])  # Segunda columna de todas las filas\n",
    "print(b[1:3, 1:3])  # Submatriz 2x2 desde el centro"
   ]
  },
  {
   "cell_type": "markdown",
   "id": "f1a16e14",
   "metadata": {},
   "source": [
    "## Propiedades y Métodos útiles"
   ]
  },
  {
   "cell_type": "markdown",
   "id": "2b9d0dde",
   "metadata": {},
   "source": [
    "### Shape"
   ]
  },
  {
   "cell_type": "code",
   "execution_count": 33,
   "id": "38107cf3",
   "metadata": {},
   "outputs": [
    {
     "name": "stdout",
     "output_type": "stream",
     "text": [
      "(3, 2)\n"
     ]
    }
   ],
   "source": [
    "a = np.array([[1, 2], [3, 4], [5, 6]])\n",
    "print(a.shape) "
   ]
  },
  {
   "cell_type": "markdown",
   "id": "8eb6c6c5",
   "metadata": {},
   "source": [
    "### Size"
   ]
  },
  {
   "cell_type": "code",
   "execution_count": 35,
   "id": "e58f3d83",
   "metadata": {},
   "outputs": [
    {
     "name": "stdout",
     "output_type": "stream",
     "text": [
      "6\n"
     ]
    }
   ],
   "source": [
    "print(a.size)"
   ]
  },
  {
   "cell_type": "markdown",
   "id": "2e0b9166",
   "metadata": {},
   "source": [
    "### Dtype"
   ]
  },
  {
   "cell_type": "code",
   "execution_count": 38,
   "id": "37406b99",
   "metadata": {},
   "outputs": [
    {
     "name": "stdout",
     "output_type": "stream",
     "text": [
      "int32\n",
      "float64\n",
      "object\n"
     ]
    }
   ],
   "source": [
    "int_array = np.array([1, 2, 3], dtype='int32')\n",
    "float_array = np.array([1.0, 2.0, 3.0], dtype='float64')\n",
    "object_array = np.array([1.0, 2.0, 3.0], dtype='object')\n",
    "print(int_array.dtype)\n",
    "print(float_array.dtype)\n",
    "print(object_array.dtype)"
   ]
  },
  {
   "cell_type": "markdown",
   "id": "96f67519",
   "metadata": {},
   "source": [
    "### Cambiar la forma de los arrays"
   ]
  },
  {
   "cell_type": "code",
   "execution_count": 43,
   "id": "609d9c0d",
   "metadata": {},
   "outputs": [
    {
     "name": "stdout",
     "output_type": "stream",
     "text": [
      "<built-in function print>\n",
      "[[1 2 3]\n",
      " [4 5 6]]\n"
     ]
    }
   ],
   "source": [
    "a = np.array([1, 2, 3, 4, 5, 6])\n",
    "reshaped_array = a.reshape((2, 3))  # Cambia a 2 filas y 3 columnas\n",
    "print(print)\n",
    "print(reshaped_array)"
   ]
  },
  {
   "cell_type": "markdown",
   "id": "e773165a",
   "metadata": {},
   "source": [
    "---"
   ]
  },
  {
   "cell_type": "markdown",
   "id": "260702f8",
   "metadata": {},
   "source": [
    "## Ejemplo de uso: Análisis de temperaturas en diferentes ciudades"
   ]
  },
  {
   "cell_type": "markdown",
   "id": "bf1b9ea4",
   "metadata": {},
   "source": [
    "Vamos a simular un análisis de temperaturas diarias (en grados Celsius) en varias ciudades durante una semana.\n",
    "\n",
    "Usaremos NumPy para crear arrays, hacer cálculos estadísticos y manipular los datos de manera eficiente."
   ]
  },
  {
   "cell_type": "markdown",
   "id": "a5a84e0c",
   "metadata": {},
   "source": [
    "### Paso 1: Crear un array con los datos de temperatura"
   ]
  },
  {
   "cell_type": "markdown",
   "id": "4f012589",
   "metadata": {},
   "source": [
    "Supongamos que tenemos las temperaturas diarias (en °C) de 4 ciudades durante 7 días."
   ]
  },
  {
   "cell_type": "code",
   "execution_count": 44,
   "id": "f39852e5",
   "metadata": {},
   "outputs": [
    {
     "name": "stdout",
     "output_type": "stream",
     "text": [
      "Datos de temperaturas (°C):\n",
      "[[15 18 20 22 19 17 16]\n",
      " [22 21 20 23 24 22 21]\n",
      " [12 14 16 13 11 12 14]\n",
      " [30 32 31 29 28 30 31]]\n"
     ]
    }
   ],
   "source": [
    "# Array 2D donde cada fila es una ciudad y cada columna representa un día\n",
    "temperaturas = np.array([\n",
    "    [15, 18, 20, 22, 19, 17, 16],  # Ciudad 1\n",
    "    [22, 21, 20, 23, 24, 22, 21],  # Ciudad 2\n",
    "    [12, 14, 16, 13, 11, 12, 14],  # Ciudad 3\n",
    "    [30, 32, 31, 29, 28, 30, 31]   # Ciudad 4\n",
    "])\n",
    "\n",
    "print(\"Datos de temperaturas (°C):\")\n",
    "print(temperaturas)"
   ]
  },
  {
   "cell_type": "markdown",
   "id": "4f190f1e",
   "metadata": {},
   "source": [
    "### Paso 2: Calcular estadísticas básicas"
   ]
  },
  {
   "cell_type": "markdown",
   "id": "d61c8237",
   "metadata": {},
   "source": [
    "Ahora vamos a calcular algunas estadísticas importantes:\n",
    "\n",
    "- La temperatura media de cada ciudad durante la semana.\n",
    "- La temperatura máxima y mínima de cada ciudad.\n",
    "- La desviación estándar de las temperaturas (variabilidad)."
   ]
  },
  {
   "cell_type": "code",
   "execution_count": 61,
   "id": "6184e327",
   "metadata": {},
   "outputs": [
    {
     "name": "stdout",
     "output_type": "stream",
     "text": [
      "Media de temperaturas por ciudad (°C):\n",
      "[19.28571429 21.85714286 13.14285714 30.14285714]\n"
     ]
    }
   ],
   "source": [
    "# Media de las temperaturas por ciudad (media de cada fila)\n",
    "media_por_ciudad = np.mean(temperaturas, axis=1)\n",
    "print(\"Media de temperaturas por ciudad (°C):\")\n",
    "print(media_por_ciudad)"
   ]
  },
  {
   "cell_type": "code",
   "execution_count": 62,
   "id": "ce010c40",
   "metadata": {},
   "outputs": [
    {
     "name": "stdout",
     "output_type": "stream",
     "text": [
      "Temperatura máxima por ciudad (°C):\n",
      "[25 24 16 32]\n"
     ]
    }
   ],
   "source": [
    "# Temperatura máxima por ciudad\n",
    "max_por_ciudad = np.max(temperaturas, axis=1)\n",
    "print(\"Temperatura máxima por ciudad (°C):\")\n",
    "print(max_por_ciudad)"
   ]
  },
  {
   "cell_type": "code",
   "execution_count": 63,
   "id": "5708cb61",
   "metadata": {},
   "outputs": [
    {
     "name": "stdout",
     "output_type": "stream",
     "text": [
      "Temperatura mínima por ciudad (°C):\n",
      "[15 20 11 28]\n"
     ]
    }
   ],
   "source": [
    "# Temperatura mínima por ciudad\n",
    "min_por_ciudad = np.min(temperaturas, axis=1)\n",
    "print(\"Temperatura mínima por ciudad (°C):\")\n",
    "print(min_por_ciudad)"
   ]
  },
  {
   "cell_type": "code",
   "execution_count": 64,
   "id": "6b233157",
   "metadata": {},
   "outputs": [
    {
     "name": "stdout",
     "output_type": "stream",
     "text": [
      "Desviación estándar de temperaturas por ciudad (°C):\n",
      "[3.80654646 1.2453997  1.55182578 1.2453997 ]\n"
     ]
    }
   ],
   "source": [
    "# Desviación estándar por ciudad (variabilidad de temperaturas)\n",
    "std_por_ciudad = np.std(temperaturas, axis=1)\n",
    "print(\"Desviación estándar de temperaturas por ciudad (°C):\")\n",
    "print(std_por_ciudad)"
   ]
  },
  {
   "cell_type": "markdown",
   "id": "36e8241f",
   "metadata": {},
   "source": [
    "### Paso 3: Sumar una constante a los datos (Broadcasting)"
   ]
  },
  {
   "cell_type": "markdown",
   "id": "1355a8a2",
   "metadata": {},
   "source": [
    "Supongamos que queremos sumar un ajuste de +1°C a todas las temperaturas, por ejemplo, para compensar un error en la medición."
   ]
  },
  {
   "cell_type": "code",
   "execution_count": 65,
   "id": "2db52822",
   "metadata": {},
   "outputs": [
    {
     "name": "stdout",
     "output_type": "stream",
     "text": [
      "Temperaturas ajustadas (+1°C):\n",
      "[[16 19 26 26 20 18 17]\n",
      " [23 22 21 24 25 23 22]\n",
      " [13 15 17 14 12 13 15]\n",
      " [31 33 32 30 29 31 32]]\n"
     ]
    }
   ],
   "source": [
    "# Usar broadcasting para sumar 1°C a todas las temperaturas\n",
    "ajustadas = temperaturas + 1\n",
    "print(\"Temperaturas ajustadas (+1°C):\")\n",
    "print(ajustadas)"
   ]
  },
  {
   "cell_type": "markdown",
   "id": "2de6a178",
   "metadata": {},
   "source": [
    "### Paso 4: Seleccionar y modificar datos específicos (indexación y slicing)"
   ]
  },
  {
   "cell_type": "markdown",
   "id": "48599553",
   "metadata": {},
   "source": [
    "Ahora vamos a seleccionar y modificar ciertas partes del array:\n",
    "\n",
    "- Obtener las temperaturas del tercer día para todas las ciudades.\n",
    "- Modificar las temperaturas de la primera ciudad cambiando el tercer y cuarto día a 25°C."
   ]
  },
  {
   "cell_type": "code",
   "execution_count": 66,
   "id": "66227841",
   "metadata": {},
   "outputs": [
    {
     "name": "stdout",
     "output_type": "stream",
     "text": [
      "Temperaturas del tercer día en todas las ciudades:\n",
      "[25 20 16 31]\n"
     ]
    }
   ],
   "source": [
    "# Seleccionar las temperaturas del tercer día para todas las ciudades\n",
    "dia_3_temperaturas = temperaturas[:, 2]  # Todas las filas, tercera columna\n",
    "print(\"Temperaturas del tercer día en todas las ciudades:\")\n",
    "print(dia_3_temperaturas)"
   ]
  },
  {
   "cell_type": "code",
   "execution_count": 67,
   "id": "51693105",
   "metadata": {},
   "outputs": [
    {
     "name": "stdout",
     "output_type": "stream",
     "text": [
      "Temperaturas después de modificar el tercer y cuarto día de la primera ciudad:\n",
      "[[15 18 25 25 19 17 16]\n",
      " [22 21 20 23 24 22 21]\n",
      " [12 14 16 13 11 12 14]\n",
      " [30 32 31 29 28 30 31]]\n"
     ]
    }
   ],
   "source": [
    "# Modificar el tercer y cuarto día de la primera ciudad\n",
    "temperaturas[0, 2:4] = 25\n",
    "print(\"Temperaturas después de modificar el tercer y cuarto día de la primera ciudad:\")\n",
    "print(temperaturas)"
   ]
  },
  {
   "cell_type": "markdown",
   "id": "01728695",
   "metadata": {},
   "source": [
    "### Paso 5: Cambiar la forma del array (reshape)"
   ]
  },
  {
   "cell_type": "markdown",
   "id": "892b60aa",
   "metadata": {},
   "source": [
    "Si queremos cambiar la organización de los datos para otros cálculos o gráficos, podemos cambiar la forma del array. Por ejemplo, podemos reorganizar los datos en una estructura de 2x14 (dos grupos de 14 días)."
   ]
  },
  {
   "cell_type": "code",
   "execution_count": 68,
   "id": "f72d056b",
   "metadata": {},
   "outputs": [
    {
     "name": "stdout",
     "output_type": "stream",
     "text": [
      "Datos de temperatura reorganizados (2x14):\n",
      "[[15 18 25 25 19 17 16 22 21 20 23 24 22 21]\n",
      " [12 14 16 13 11 12 14 30 32 31 29 28 30 31]]\n"
     ]
    }
   ],
   "source": [
    "# Cambiar la forma de los datos a un array de 2 filas y 14 columnas\n",
    "reshaped = temperaturas.reshape((2, 14))\n",
    "print(\"Datos de temperatura reorganizados (2x14):\")\n",
    "print(reshaped)"
   ]
  },
  {
   "cell_type": "markdown",
   "id": "d0c61457",
   "metadata": {},
   "source": [
    "### Paso 6: Calcular la correlación entre las ciudades (función avanzada)"
   ]
  },
  {
   "cell_type": "markdown",
   "id": "2be91eef",
   "metadata": {},
   "source": [
    "Finalmente, vamos a calcular la correlación entre las ciudades para ver si hay patrones similares en sus temperaturas."
   ]
  },
  {
   "cell_type": "code",
   "execution_count": 69,
   "id": "1851549d",
   "metadata": {},
   "outputs": [
    {
     "name": "stdout",
     "output_type": "stream",
     "text": [
      "Correlación entre las ciudades:\n",
      "[[ 1.         -0.05165891  0.47676999 -0.15928165]\n",
      " [-0.05165891  1.         -0.87645635 -0.90789474]\n",
      " [ 0.47676999 -0.87645635  1.          0.72862034]\n",
      " [-0.15928165 -0.90789474  0.72862034  1.        ]]\n"
     ]
    }
   ],
   "source": [
    "# Calcular la correlación entre las ciudades\n",
    "correlacion = np.corrcoef(temperaturas)\n",
    "print(\"Correlación entre las ciudades:\")\n",
    "print(correlacion)"
   ]
  },
  {
   "cell_type": "code",
   "execution_count": null,
   "id": "79e10f59",
   "metadata": {},
   "outputs": [],
   "source": []
  }
 ],
 "metadata": {
  "kernelspec": {
   "display_name": "Python 3 (ipykernel)",
   "language": "python",
   "name": "python3"
  },
  "language_info": {
   "codemirror_mode": {
    "name": "ipython",
    "version": 3
   },
   "file_extension": ".py",
   "mimetype": "text/x-python",
   "name": "python",
   "nbconvert_exporter": "python",
   "pygments_lexer": "ipython3",
   "version": "3.9.7"
  }
 },
 "nbformat": 4,
 "nbformat_minor": 5
}
